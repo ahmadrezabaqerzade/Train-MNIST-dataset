{
 "cells": [
  {
   "cell_type": "code",
   "execution_count": 271,
   "metadata": {},
   "outputs": [],
   "source": [
    "import torch as tc \n",
    "from torch import nn, optim \n",
    "from torch.utils.data import TensorDataset, DataLoader, random_split, ConcatDataset\n",
    "\n",
    "from torchmetrics import Accuracy \n",
    "\n",
    "from torchvision import datasets\n",
    "from torchvision import transforms as T\n",
    "from torchvision.datasets import MNIST\n",
    "from torchvision.utils import make_grid, save_image\n",
    "\n",
    "import numpy as np \n",
    "import pandas  as pd \n",
    "import matplotlib.pyplot as plt \n",
    "\n",
    "from tqdm import tqdm \n",
    "\n",
    "import cv2"
   ]
  },
  {
   "cell_type": "code",
   "execution_count": 272,
   "metadata": {},
   "outputs": [],
   "source": [
    "z_dim = 64"
   ]
  },
  {
   "cell_type": "code",
   "execution_count": 273,
   "metadata": {},
   "outputs": [],
   "source": [
    "device = 'cuda' if tc.cuda.is_available() else 'cpu'"
   ]
  },
  {
   "cell_type": "code",
   "execution_count": 274,
   "metadata": {},
   "outputs": [],
   "source": [
    "class AverageMeter(object):\n",
    "    \"\"\"Computes and stores the average and current value\"\"\"\n",
    "    def __init__(self):\n",
    "        self.reset()\n",
    "\n",
    "    def reset(self):\n",
    "        self.val = 0\n",
    "        self.avg = 0\n",
    "        self.sum = 0\n",
    "        self.count = 0\n",
    "\n",
    "    def update(self, val, n=1):\n",
    "        self.val = val\n",
    "        self.sum += val * n\n",
    "        self.count += n\n",
    "        self.avg = self.sum / self.count"
   ]
  },
  {
   "cell_type": "code",
   "execution_count": 275,
   "metadata": {},
   "outputs": [],
   "source": [
    "train_dataset = MNIST('datasets', download = True, train = True, transform = T.ToTensor())"
   ]
  },
  {
   "cell_type": "code",
   "execution_count": 276,
   "metadata": {},
   "outputs": [],
   "source": [
    "valid_dataset = MNIST('/home/ahmadrezabaqerzadeh/datasets/', train = False, download = True, transform = T.ToTensor())"
   ]
  },
  {
   "cell_type": "code",
   "execution_count": 277,
   "metadata": {},
   "outputs": [],
   "source": [
    "dataset = ConcatDataset([train_dataset, valid_dataset])"
   ]
  },
  {
   "cell_type": "code",
   "execution_count": 278,
   "metadata": {},
   "outputs": [
    {
     "data": {
      "text/plain": [
       "Dataset MNIST\n",
       "    Number of datapoints: 60000\n",
       "    Root location: datasets\n",
       "    Split: Train\n",
       "    StandardTransform\n",
       "Transform: ToTensor()"
      ]
     },
     "execution_count": 278,
     "metadata": {},
     "output_type": "execute_result"
    }
   ],
   "source": [
    "train_dataset"
   ]
  },
  {
   "cell_type": "code",
   "execution_count": 279,
   "metadata": {},
   "outputs": [
    {
     "data": {
      "text/plain": [
       "Dataset MNIST\n",
       "    Number of datapoints: 10000\n",
       "    Root location: /home/ahmadrezabaqerzadeh/datasets/\n",
       "    Split: Test\n",
       "    StandardTransform\n",
       "Transform: ToTensor()"
      ]
     },
     "execution_count": 279,
     "metadata": {},
     "output_type": "execute_result"
    }
   ],
   "source": [
    "valid_dataset"
   ]
  },
  {
   "cell_type": "code",
   "execution_count": 280,
   "metadata": {},
   "outputs": [
    {
     "data": {
      "text/plain": [
       "<matplotlib.image.AxesImage at 0x7fa2d02e15d0>"
      ]
     },
     "execution_count": 280,
     "metadata": {},
     "output_type": "execute_result"
    },
    {
     "data": {
      "image/png": "[encoded data removed]",
      "text/plain": [
       "<Figure size 640x480 with 1 Axes>"
      ]
     },
     "metadata": {},
     "output_type": "display_data"
    }
   ],
   "source": [
    "plt.imshow(dataset[0][0].squeeze(0), cmap = 'gray')"
   ]
  },
  {
   "cell_type": "code",
   "execution_count": 281,
   "metadata": {},
   "outputs": [
    {
     "data": {
      "text/plain": [
       "tensor([[[0.0000, 0.0000, 0.0000, 0.0000, 0.0000, 0.0000, 0.0000, 0.0000,\n",
       "          0.0000, 0.0000, 0.0000, 0.0000, 0.0000, 0.0000, 0.0000, 0.0000,\n",
       "          0.0000, 0.0000, 0.0000, 0.0000, 0.0000, 0.0000, 0.0000, 0.0000,\n",
       "          0.0000, 0.0000, 0.0000, 0.0000],\n",
       "         [0.0000, 0.0000, 0.0000, 0.0000, 0.0000, 0.0000, 0.0000, 0.0000,\n",
       "          0.0000, 0.0000, 0.0000, 0.0000, 0.0000, 0.0000, 0.0000, 0.0000,\n",
       "          0.0000, 0.0000, 0.0000, 0.0000, 0.0000, 0.0000, 0.0000, 0.0000,\n",
       "          0.0000, 0.0000, 0.0000, 0.0000],\n",
       "         [0.0000, 0.0000, 0.0000, 0.0000, 0.0000, 0.0000, 0.0000, 0.0000,\n",
       "          0.0000, 0.0000, 0.0000, 0.0000, 0.0000, 0.0000, 0.0000, 0.0000,\n",
       "          0.0000, 0.0000, 0.0000, 0.0000, 0.0000, 0.0000, 0.0000, 0.0000,\n",
       "          0.0000, 0.0000, 0.0000, 0.0000],\n",
       "         [0.0000, 0.0000, 0.0000, 0.0000, 0.0000, 0.0000, 0.0000, 0.0000,\n",
       "          0.0000, 0.0000, 0.0000, 0.0000, 0.0000, 0.0000, 0.0000, 0.0000,\n",
       "          0.0000, 0.0000, 0.0000, 0.0000, 0.0000, 0.0000, 0.0000, 0.0000,\n",
       "          0.0000, 0.0000, 0.0000, 0.0000],\n",
       "         [0.0000, 0.0000, 0.0000, 0.0000, 0.0000, 0.0000, 0.0000, 0.0000,\n",
       "          0.0000, 0.0000, 0.0000, 0.0000, 0.0000, 0.0000, 0.0000, 0.0000,\n",
       "          0.0000, 0.0000, 0.0000, 0.0000, 0.0000, 0.0000, 0.0000, 0.0000,\n",
       "          0.0000, 0.0000, 0.0000, 0.0000],\n",
       "         [0.0000, 0.0000, 0.0000, 0.0000, 0.0000, 0.0000, 0.0000, 0.0000,\n",
       "          0.0000, 0.0000, 0.0000, 0.0000, 0.0118, 0.0706, 0.0706, 0.0706,\n",
       "          0.4941, 0.5333, 0.6863, 0.1020, 0.6510, 1.0000, 0.9686, 0.4980,\n",
       "          0.0000, 0.0000, 0.0000, 0.0000],\n",
       "         [0.0000, 0.0000, 0.0000, 0.0000, 0.0000, 0.0000, 0.0000, 0.0000,\n",
       "          0.1176, 0.1412, 0.3686, 0.6039, 0.6667, 0.9922, 0.9922, 0.9922,\n",
       "          0.9922, 0.9922, 0.8824, 0.6745, 0.9922, 0.9490, 0.7647, 0.2510,\n",
       "          0.0000, 0.0000, 0.0000, 0.0000],\n",
       "         [0.0000, 0.0000, 0.0000, 0.0000, 0.0000, 0.0000, 0.0000, 0.1922,\n",
       "          0.9333, 0.9922, 0.9922, 0.9922, 0.9922, 0.9922, 0.9922, 0.9922,\n",
       "          0.9922, 0.9843, 0.3647, 0.3216, 0.3216, 0.2196, 0.1529, 0.0000,\n",
       "          0.0000, 0.0000, 0.0000, 0.0000],\n",
       "         [0.0000, 0.0000, 0.0000, 0.0000, 0.0000, 0.0000, 0.0000, 0.0706,\n",
       "          0.8588, 0.9922, 0.9922, 0.9922, 0.9922, 0.9922, 0.7765, 0.7137,\n",
       "          0.9686, 0.9451, 0.0000, 0.0000, 0.0000, 0.0000, 0.0000, 0.0000,\n",
       "          0.0000, 0.0000, 0.0000, 0.0000],\n",
       "         [0.0000, 0.0000, 0.0000, 0.0000, 0.0000, 0.0000, 0.0000, 0.0000,\n",
       "          0.3137, 0.6118, 0.4196, 0.9922, 0.9922, 0.8039, 0.0431, 0.0000,\n",
       "          0.1686, 0.6039, 0.0000, 0.0000, 0.0000, 0.0000, 0.0000, 0.0000,\n",
       "          0.0000, 0.0000, 0.0000, 0.0000],\n",
       "         [0.0000, 0.0000, 0.0000, 0.0000, 0.0000, 0.0000, 0.0000, 0.0000,\n",
       "          0.0000, 0.0549, 0.0039, 0.6039, 0.9922, 0.3529, 0.0000, 0.0000,\n",
       "          0.0000, 0.0000, 0.0000, 0.0000, 0.0000, 0.0000, 0.0000, 0.0000,\n",
       "          0.0000, 0.0000, 0.0000, 0.0000],\n",
       "         [0.0000, 0.0000, 0.0000, 0.0000, 0.0000, 0.0000, 0.0000, 0.0000,\n",
       "          0.0000, 0.0000, 0.0000, 0.5451, 0.9922, 0.7451, 0.0078, 0.0000,\n",
       "          0.0000, 0.0000, 0.0000, 0.0000, 0.0000, 0.0000, 0.0000, 0.0000,\n",
       "          0.0000, 0.0000, 0.0000, 0.0000],\n",
       "         [0.0000, 0.0000, 0.0000, 0.0000, 0.0000, 0.0000, 0.0000, 0.0000,\n",
       "          0.0000, 0.0000, 0.0000, 0.0431, 0.7451, 0.9922, 0.2745, 0.0000,\n",
       "          0.0000, 0.0000, 0.0000, 0.0000, 0.0000, 0.0000, 0.0000, 0.0000,\n",
       "          0.0000, 0.0000, 0.0000, 0.0000],\n",
       "         [0.0000, 0.0000, 0.0000, 0.0000, 0.0000, 0.0000, 0.0000, 0.0000,\n",
       "          0.0000, 0.0000, 0.0000, 0.0000, 0.1373, 0.9451, 0.8824, 0.6275,\n",
       "          0.4235, 0.0039, 0.0000, 0.0000, 0.0000, 0.0000, 0.0000, 0.0000,\n",
       "          0.0000, 0.0000, 0.0000, 0.0000],\n",
       "         [0.0000, 0.0000, 0.0000, 0.0000, 0.0000, 0.0000, 0.0000, 0.0000,\n",
       "          0.0000, 0.0000, 0.0000, 0.0000, 0.0000, 0.3176, 0.9412, 0.9922,\n",
       "          0.9922, 0.4667, 0.0980, 0.0000, 0.0000, 0.0000, 0.0000, 0.0000,\n",
       "          0.0000, 0.0000, 0.0000, 0.0000],\n",
       "         [0.0000, 0.0000, 0.0000, 0.0000, 0.0000, 0.0000, 0.0000, 0.0000,\n",
       "          0.0000, 0.0000, 0.0000, 0.0000, 0.0000, 0.0000, 0.1765, 0.7294,\n",
       "          0.9922, 0.9922, 0.5882, 0.1059, 0.0000, 0.0000, 0.0000, 0.0000,\n",
       "          0.0000, 0.0000, 0.0000, 0.0000],\n",
       "         [0.0000, 0.0000, 0.0000, 0.0000, 0.0000, 0.0000, 0.0000, 0.0000,\n",
       "          0.0000, 0.0000, 0.0000, 0.0000, 0.0000, 0.0000, 0.0000, 0.0627,\n",
       "          0.3647, 0.9882, 0.9922, 0.7333, 0.0000, 0.0000, 0.0000, 0.0000,\n",
       "          0.0000, 0.0000, 0.0000, 0.0000],\n",
       "         [0.0000, 0.0000, 0.0000, 0.0000, 0.0000, 0.0000, 0.0000, 0.0000,\n",
       "          0.0000, 0.0000, 0.0000, 0.0000, 0.0000, 0.0000, 0.0000, 0.0000,\n",
       "          0.0000, 0.9765, 0.9922, 0.9765, 0.2510, 0.0000, 0.0000, 0.0000,\n",
       "          0.0000, 0.0000, 0.0000, 0.0000],\n",
       "         [0.0000, 0.0000, 0.0000, 0.0000, 0.0000, 0.0000, 0.0000, 0.0000,\n",
       "          0.0000, 0.0000, 0.0000, 0.0000, 0.0000, 0.0000, 0.1804, 0.5098,\n",
       "          0.7176, 0.9922, 0.9922, 0.8118, 0.0078, 0.0000, 0.0000, 0.0000,\n",
       "          0.0000, 0.0000, 0.0000, 0.0000],\n",
       "         [0.0000, 0.0000, 0.0000, 0.0000, 0.0000, 0.0000, 0.0000, 0.0000,\n",
       "          0.0000, 0.0000, 0.0000, 0.0000, 0.1529, 0.5804, 0.8980, 0.9922,\n",
       "          0.9922, 0.9922, 0.9804, 0.7137, 0.0000, 0.0000, 0.0000, 0.0000,\n",
       "          0.0000, 0.0000, 0.0000, 0.0000],\n",
       "         [0.0000, 0.0000, 0.0000, 0.0000, 0.0000, 0.0000, 0.0000, 0.0000,\n",
       "          0.0000, 0.0000, 0.0941, 0.4471, 0.8667, 0.9922, 0.9922, 0.9922,\n",
       "          0.9922, 0.7882, 0.3059, 0.0000, 0.0000, 0.0000, 0.0000, 0.0000,\n",
       "          0.0000, 0.0000, 0.0000, 0.0000],\n",
       "         [0.0000, 0.0000, 0.0000, 0.0000, 0.0000, 0.0000, 0.0000, 0.0000,\n",
       "          0.0902, 0.2588, 0.8353, 0.9922, 0.9922, 0.9922, 0.9922, 0.7765,\n",
       "          0.3176, 0.0078, 0.0000, 0.0000, 0.0000, 0.0000, 0.0000, 0.0000,\n",
       "          0.0000, 0.0000, 0.0000, 0.0000],\n",
       "         [0.0000, 0.0000, 0.0000, 0.0000, 0.0000, 0.0000, 0.0706, 0.6706,\n",
       "          0.8588, 0.9922, 0.9922, 0.9922, 0.9922, 0.7647, 0.3137, 0.0353,\n",
       "          0.0000, 0.0000, 0.0000, 0.0000, 0.0000, 0.0000, 0.0000, 0.0000,\n",
       "          0.0000, 0.0000, 0.0000, 0.0000],\n",
       "         [0.0000, 0.0000, 0.0000, 0.0000, 0.2157, 0.6745, 0.8863, 0.9922,\n",
       "          0.9922, 0.9922, 0.9922, 0.9569, 0.5216, 0.0431, 0.0000, 0.0000,\n",
       "          0.0000, 0.0000, 0.0000, 0.0000, 0.0000, 0.0000, 0.0000, 0.0000,\n",
       "          0.0000, 0.0000, 0.0000, 0.0000],\n",
       "         [0.0000, 0.0000, 0.0000, 0.0000, 0.5333, 0.9922, 0.9922, 0.9922,\n",
       "          0.8314, 0.5294, 0.5176, 0.0627, 0.0000, 0.0000, 0.0000, 0.0000,\n",
       "          0.0000, 0.0000, 0.0000, 0.0000, 0.0000, 0.0000, 0.0000, 0.0000,\n",
       "          0.0000, 0.0000, 0.0000, 0.0000],\n",
       "         [0.0000, 0.0000, 0.0000, 0.0000, 0.0000, 0.0000, 0.0000, 0.0000,\n",
       "          0.0000, 0.0000, 0.0000, 0.0000, 0.0000, 0.0000, 0.0000, 0.0000,\n",
       "          0.0000, 0.0000, 0.0000, 0.0000, 0.0000, 0.0000, 0.0000, 0.0000,\n",
       "          0.0000, 0.0000, 0.0000, 0.0000],\n",
       "         [0.0000, 0.0000, 0.0000, 0.0000, 0.0000, 0.0000, 0.0000, 0.0000,\n",
       "          0.0000, 0.0000, 0.0000, 0.0000, 0.0000, 0.0000, 0.0000, 0.0000,\n",
       "          0.0000, 0.0000, 0.0000, 0.0000, 0.0000, 0.0000, 0.0000, 0.0000,\n",
       "          0.0000, 0.0000, 0.0000, 0.0000],\n",
       "         [0.0000, 0.0000, 0.0000, 0.0000, 0.0000, 0.0000, 0.0000, 0.0000,\n",
       "          0.0000, 0.0000, 0.0000, 0.0000, 0.0000, 0.0000, 0.0000, 0.0000,\n",
       "          0.0000, 0.0000, 0.0000, 0.0000, 0.0000, 0.0000, 0.0000, 0.0000,\n",
       "          0.0000, 0.0000, 0.0000, 0.0000]]])"
      ]
     },
     "execution_count": 281,
     "metadata": {},
     "output_type": "execute_result"
    }
   ],
   "source": [
    "dataset[0][0]"
   ]
  },
  {
   "cell_type": "code",
   "execution_count": 282,
   "metadata": {},
   "outputs": [],
   "source": [
    "train_loader = DataLoader(dataset, batch_size = 64, shuffle = True)"
   ]
  },
  {
   "cell_type": "code",
   "execution_count": 283,
   "metadata": {},
   "outputs": [],
   "source": [
    "x, y = next(iter(train_loader))"
   ]
  },
  {
   "cell_type": "code",
   "execution_count": 284,
   "metadata": {},
   "outputs": [
    {
     "data": {
      "text/plain": [
       "torch.Size([64, 1, 28, 28])"
      ]
     },
     "execution_count": 284,
     "metadata": {},
     "output_type": "execute_result"
    }
   ],
   "source": [
    "x.shape"
   ]
  },
  {
   "cell_type": "code",
   "execution_count": 285,
   "metadata": {},
   "outputs": [
    {
     "data": {
      "text/plain": [
       "tensor([0, 1, 2, 3, 4, 5, 6, 7, 8, 9])"
      ]
     },
     "execution_count": 285,
     "metadata": {},
     "output_type": "execute_result"
    }
   ],
   "source": [
    "y.unique()"
   ]
  },
  {
   "cell_type": "code",
   "execution_count": 286,
   "metadata": {},
   "outputs": [],
   "source": [
    "xmk = make_grid(x, 8)"
   ]
  },
  {
   "cell_type": "code",
   "execution_count": 287,
   "metadata": {},
   "outputs": [
    {
     "data": {
      "text/plain": [
       "<matplotlib.image.AxesImage at 0x7fa2ad701ba0>"
      ]
     },
     "execution_count": 287,
     "metadata": {},
     "output_type": "execute_result"
    },
    {
     "data": {
      "image/png": "[encoded data removed]",
      "text/plain": [
       "<Figure size 640x480 with 1 Axes>"
      ]
     },
     "metadata": {},
     "output_type": "display_data"
    }
   ],
   "source": [
    "plt.imshow(xmk.permute(1, 2, 0), cmap = 'gray')"
   ]
  },
  {
   "cell_type": "code",
   "execution_count": 288,
   "metadata": {},
   "outputs": [],
   "source": [
    "class Generator(nn.Module):\n",
    "    \n",
    "    def __init__(self, dim):\n",
    "        super(Generator, self).__init__()\n",
    "        \n",
    "        #self.layers = nn.ModuleList()\n",
    "        #for i in range(num_layers):\n",
    "         #   self.layers.append(nn.LazyLinear((i+1) * neuron))\n",
    "            \n",
    "        self.fc1 = nn.LazyLinear(256)\n",
    "        self.fc2 = nn.LazyLinear(512)\n",
    "        self.fc3 = nn.LazyLinear(1024)\n",
    "        self.fc4 = nn.LazyLinear(dim * dim)\n",
    "            \n",
    "    def forward(self, z):\n",
    "        \n",
    "        z = nn.LeakyReLU(0.2)(self.fc1(z))\n",
    "        z = nn.LeakyReLU(0.2)(self.fc2(z))\n",
    "        z = nn.LeakyReLU(0.2)(self.fc3(z))\n",
    "        y = nn.Tanh()(self.fc4(z))\n",
    "        \n",
    "        return y"
   ]
  },
  {
   "cell_type": "code",
   "execution_count": 289,
   "metadata": {},
   "outputs": [
    {
     "name": "stderr",
     "output_type": "stream",
     "text": [
      "/home/ahmadrezabaqerzadeh/.local/lib/python3.10/site-packages/torch/nn/modules/lazy.py:180: UserWarning: Lazy modules are a new feature under heavy development so changes to the API or functionality can happen at any moment.\n",
      "  warnings.warn('Lazy modules are a new feature under heavy development '\n"
     ]
    }
   ],
   "source": [
    "G_model = Generator(28).to(device)"
   ]
  },
  {
   "cell_type": "code",
   "execution_count": 290,
   "metadata": {},
   "outputs": [
    {
     "data": {
      "text/plain": [
       "torch.Size([64, 784])"
      ]
     },
     "execution_count": 290,
     "metadata": {},
     "output_type": "execute_result"
    }
   ],
   "source": [
    "G_model(tc.randn(64, 100).to(device)).shape"
   ]
  },
  {
   "cell_type": "code",
   "execution_count": 291,
   "metadata": {},
   "outputs": [],
   "source": [
    "class Discriminator(nn.Module):\n",
    "    \n",
    "    def __init__(self):\n",
    "        super(Discriminator, self).__init__()\n",
    "        \n",
    "        self.fc1 = nn.LazyLinear(1024)\n",
    "        self.fc2 = nn.LazyLinear(512)\n",
    "        self.fc3 = nn.LazyLinear(256)\n",
    "        self.fc4 = nn.LazyLinear(1)\n",
    "        \n",
    "    def forward(self, x):\n",
    "        \n",
    "        x = nn.Dropout(0.3)(nn.LeakyReLU(0.2)(self.fc1(x)))\n",
    "        x = nn.Dropout(0.3)(nn.LeakyReLU(0.2)(self.fc2(x)))\n",
    "        x = nn.Dropout(0.3)(nn.LeakyReLU(0.2)(self.fc3(x)))\n",
    "        y = nn.Sigmoid()(self.fc4(x))\n",
    "        \n",
    "        return y"
   ]
  },
  {
   "cell_type": "code",
   "execution_count": 292,
   "metadata": {},
   "outputs": [],
   "source": [
    "D_model = Discriminator().to(device)"
   ]
  },
  {
   "cell_type": "code",
   "execution_count": 293,
   "metadata": {},
   "outputs": [
    {
     "data": {
      "text/plain": [
       "Discriminator(\n",
       "  (fc1): LazyLinear(in_features=0, out_features=1024, bias=True)\n",
       "  (fc2): LazyLinear(in_features=0, out_features=512, bias=True)\n",
       "  (fc3): LazyLinear(in_features=0, out_features=256, bias=True)\n",
       "  (fc4): LazyLinear(in_features=0, out_features=1, bias=True)\n",
       ")"
      ]
     },
     "execution_count": 293,
     "metadata": {},
     "output_type": "execute_result"
    }
   ],
   "source": [
    "D_model"
   ]
  },
  {
   "cell_type": "code",
   "execution_count": 294,
   "metadata": {},
   "outputs": [],
   "source": [
    "yp = D_model(x.flatten(1).to(device))"
   ]
  },
  {
   "cell_type": "code",
   "execution_count": null,
   "metadata": {},
   "outputs": [],
   "source": []
  },
  {
   "cell_type": "code",
   "execution_count": 295,
   "metadata": {},
   "outputs": [],
   "source": [
    "D_model = Discriminator().to(device)\n",
    "G_model = Generator(28).to(device)"
   ]
  },
  {
   "cell_type": "code",
   "execution_count": 296,
   "metadata": {},
   "outputs": [],
   "source": [
    "loss_func = nn.BCELoss()\n",
    "optimizer_D = optim.Adam(D_model.parameters(), lr = 0.0002, betas = [0.9, 0.99])\n",
    "optimizer_G = optim.Adam(G_model.parameters(), lr = 0.0002, betas = [0.9, 0.99])"
   ]
  },
  {
   "cell_type": "code",
   "execution_count": 297,
   "metadata": {},
   "outputs": [],
   "source": [
    "def train_one_epoch(D_model, G_model, data_loader, loss_func, optimizer_d, optimizer_g, epoch):\n",
    "    D_model.train()\n",
    "    G_model.train()\n",
    "    \n",
    "    pass"
   ]
  },
  {
   "cell_type": "code",
   "execution_count": 298,
   "metadata": {},
   "outputs": [
    {
     "name": "stdout",
     "output_type": "stream",
     "text": [
      "epoch=0, dis loss=0.7616097331047058, gen loss=4.932794094085693\n",
      "epoch=1, dis loss=0.3054746687412262, gen loss=3.1594395637512207\n",
      "epoch=2, dis loss=1.1197302341461182, gen loss=1.7253141403198242\n",
      "epoch=3, dis loss=0.7389892339706421, gen loss=2.001433849334717\n",
      "epoch=4, dis loss=0.6947104334831238, gen loss=2.0416409969329834\n",
      "epoch=5, dis loss=0.6130973100662231, gen loss=1.7553775310516357\n",
      "epoch=6, dis loss=1.1316338777542114, gen loss=1.6872667074203491\n",
      "epoch=7, dis loss=0.9315571784973145, gen loss=1.7868613004684448\n",
      "epoch=8, dis loss=0.7472521066665649, gen loss=2.0890307426452637\n",
      "epoch=9, dis loss=0.9637126326560974, gen loss=1.8294048309326172\n",
      "epoch=10, dis loss=0.9076820611953735, gen loss=1.6611374616622925\n",
      "epoch=11, dis loss=0.6179500818252563, gen loss=2.3245348930358887\n",
      "epoch=12, dis loss=0.9245117902755737, gen loss=1.7722944021224976\n",
      "epoch=13, dis loss=0.8291377425193787, gen loss=2.394953966140747\n",
      "epoch=14, dis loss=0.47720956802368164, gen loss=2.218000888824463\n",
      "epoch=15, dis loss=0.982524037361145, gen loss=1.638437032699585\n",
      "epoch=16, dis loss=1.0624644756317139, gen loss=2.635206699371338\n",
      "epoch=17, dis loss=0.47630539536476135, gen loss=2.3942365646362305\n",
      "epoch=18, dis loss=0.6080115437507629, gen loss=2.597586154937744\n",
      "epoch=19, dis loss=0.6112709045410156, gen loss=2.4460158348083496\n",
      "epoch=20, dis loss=0.7940312027931213, gen loss=2.360058307647705\n",
      "epoch=21, dis loss=0.7697016596794128, gen loss=2.2396600246429443\n",
      "epoch=22, dis loss=0.7333316206932068, gen loss=2.2311713695526123\n",
      "epoch=23, dis loss=0.6353816986083984, gen loss=2.1227331161499023\n",
      "epoch=24, dis loss=0.8485320806503296, gen loss=2.452491521835327\n",
      "epoch=25, dis loss=0.6691651344299316, gen loss=2.3076939582824707\n",
      "epoch=26, dis loss=0.38215163350105286, gen loss=2.727381706237793\n",
      "epoch=27, dis loss=0.41789039969444275, gen loss=3.7452011108398438\n",
      "epoch=28, dis loss=0.5324935913085938, gen loss=2.743040084838867\n",
      "epoch=29, dis loss=0.6165048480033875, gen loss=2.691112518310547\n",
      "epoch=30, dis loss=0.896090030670166, gen loss=3.0330798625946045\n",
      "epoch=31, dis loss=0.3713975250720978, gen loss=2.879147529602051\n",
      "epoch=32, dis loss=0.32562556862831116, gen loss=2.8740241527557373\n",
      "epoch=33, dis loss=0.44371816515922546, gen loss=3.6155059337615967\n",
      "epoch=34, dis loss=0.5446268916130066, gen loss=3.2750918865203857\n",
      "epoch=35, dis loss=0.21345257759094238, gen loss=4.2676591873168945\n",
      "epoch=36, dis loss=0.11153137683868408, gen loss=2.8251352310180664\n",
      "epoch=37, dis loss=0.3764511048793793, gen loss=3.608588218688965\n",
      "epoch=38, dis loss=0.4615923762321472, gen loss=3.926439046859741\n",
      "epoch=39, dis loss=0.3922462463378906, gen loss=3.269570827484131\n",
      "epoch=40, dis loss=0.2885972261428833, gen loss=3.4609718322753906\n",
      "epoch=41, dis loss=0.19978824257850647, gen loss=4.2468461990356445\n",
      "epoch=42, dis loss=0.4472099542617798, gen loss=4.011811256408691\n",
      "epoch=43, dis loss=0.21625685691833496, gen loss=4.294827461242676\n",
      "epoch=44, dis loss=0.37266162037849426, gen loss=5.040742874145508\n",
      "epoch=45, dis loss=0.3394758701324463, gen loss=3.8136038780212402\n",
      "epoch=46, dis loss=0.16784925758838654, gen loss=5.003861427307129\n",
      "epoch=47, dis loss=0.24952122569084167, gen loss=3.511345624923706\n",
      "epoch=48, dis loss=0.2838354706764221, gen loss=4.291844367980957\n",
      "epoch=49, dis loss=0.2924526035785675, gen loss=4.01732063293457\n",
      "epoch=50, dis loss=0.19170896708965302, gen loss=4.1621503829956055\n",
      "epoch=51, dis loss=0.2868388891220093, gen loss=3.87162446975708\n",
      "epoch=52, dis loss=0.295723021030426, gen loss=3.564100742340088\n",
      "epoch=53, dis loss=0.2582204341888428, gen loss=3.894855260848999\n",
      "epoch=54, dis loss=0.35574591159820557, gen loss=4.057918548583984\n",
      "epoch=55, dis loss=0.421622097492218, gen loss=4.30670166015625\n",
      "epoch=56, dis loss=0.1506624072790146, gen loss=4.173276901245117\n",
      "epoch=57, dis loss=0.4016542434692383, gen loss=4.932409286499023\n",
      "epoch=58, dis loss=0.23459024727344513, gen loss=4.169676780700684\n",
      "epoch=59, dis loss=0.154533252120018, gen loss=3.90952467918396\n",
      "epoch=60, dis loss=0.2854315936565399, gen loss=3.866987943649292\n",
      "epoch=61, dis loss=0.22374728322029114, gen loss=4.417115211486816\n",
      "epoch=62, dis loss=0.43955257534980774, gen loss=5.04217529296875\n",
      "epoch=63, dis loss=0.17076395452022552, gen loss=4.208176612854004\n",
      "epoch=64, dis loss=0.231805682182312, gen loss=3.4451940059661865\n",
      "epoch=65, dis loss=0.5401123762130737, gen loss=4.391108512878418\n",
      "epoch=66, dis loss=0.5351011753082275, gen loss=4.368130683898926\n",
      "epoch=67, dis loss=0.16350799798965454, gen loss=3.7063632011413574\n",
      "epoch=68, dis loss=0.4119756519794464, gen loss=4.457937240600586\n",
      "epoch=69, dis loss=0.39664387702941895, gen loss=4.012533664703369\n",
      "epoch=70, dis loss=0.4477742910385132, gen loss=3.7290542125701904\n",
      "epoch=71, dis loss=0.38522449135780334, gen loss=4.568459510803223\n",
      "epoch=72, dis loss=0.30712151527404785, gen loss=4.52921199798584\n",
      "epoch=73, dis loss=0.6737414598464966, gen loss=3.9743876457214355\n",
      "epoch=74, dis loss=0.4659166932106018, gen loss=3.8547329902648926\n",
      "epoch=75, dis loss=0.3698371648788452, gen loss=4.452700614929199\n",
      "epoch=76, dis loss=0.203200101852417, gen loss=3.4876861572265625\n",
      "epoch=77, dis loss=0.32710033655166626, gen loss=3.39566707611084\n",
      "epoch=78, dis loss=0.4054304361343384, gen loss=4.236353874206543\n",
      "epoch=79, dis loss=0.3614193797111511, gen loss=4.472766876220703\n",
      "epoch=80, dis loss=0.42267003655433655, gen loss=3.814023971557617\n",
      "epoch=81, dis loss=0.27618247270584106, gen loss=3.997152805328369\n",
      "epoch=82, dis loss=0.13659626245498657, gen loss=3.8987574577331543\n",
      "epoch=83, dis loss=0.3049777150154114, gen loss=3.4181785583496094\n",
      "epoch=84, dis loss=0.42817819118499756, gen loss=4.158484935760498\n",
      "epoch=85, dis loss=0.4169009029865265, gen loss=4.418734073638916\n",
      "epoch=86, dis loss=0.3849772810935974, gen loss=4.078084945678711\n",
      "epoch=87, dis loss=0.4940244257450104, gen loss=3.666158676147461\n",
      "epoch=88, dis loss=0.29801955819129944, gen loss=4.487613677978516\n",
      "epoch=89, dis loss=0.5007834434509277, gen loss=3.8129749298095703\n",
      "epoch=90, dis loss=0.18715563416481018, gen loss=5.020151138305664\n",
      "epoch=91, dis loss=0.3930462598800659, gen loss=5.053289890289307\n",
      "epoch=92, dis loss=0.20987403392791748, gen loss=4.443366050720215\n",
      "epoch=93, dis loss=0.2566394805908203, gen loss=4.363883972167969\n",
      "epoch=94, dis loss=0.31238120794296265, gen loss=4.346325874328613\n",
      "epoch=95, dis loss=0.34924614429473877, gen loss=3.803738594055176\n",
      "epoch=96, dis loss=0.29192715883255005, gen loss=3.8333301544189453\n",
      "epoch=97, dis loss=0.22407615184783936, gen loss=4.344826698303223\n",
      "epoch=98, dis loss=0.13194268941879272, gen loss=5.403897762298584\n",
      "epoch=99, dis loss=0.12718787789344788, gen loss=3.7646758556365967\n",
      "epoch=100, dis loss=0.30201172828674316, gen loss=3.538639545440674\n",
      "epoch=101, dis loss=0.30357494950294495, gen loss=4.091313362121582\n",
      "epoch=102, dis loss=0.2123003602027893, gen loss=3.3442530632019043\n",
      "epoch=103, dis loss=0.31780654191970825, gen loss=3.5529468059539795\n",
      "epoch=104, dis loss=0.564486026763916, gen loss=3.8624751567840576\n",
      "epoch=105, dis loss=0.5071927905082703, gen loss=3.7064788341522217\n",
      "epoch=106, dis loss=0.35037100315093994, gen loss=4.320364952087402\n",
      "epoch=107, dis loss=0.3513277769088745, gen loss=3.351728916168213\n",
      "epoch=108, dis loss=0.28749948740005493, gen loss=4.090641498565674\n",
      "epoch=109, dis loss=0.16904756426811218, gen loss=3.8515853881835938\n",
      "epoch=110, dis loss=0.3037680983543396, gen loss=3.299865484237671\n",
      "epoch=111, dis loss=0.2521054148674011, gen loss=3.9776172637939453\n",
      "epoch=112, dis loss=0.31960076093673706, gen loss=4.249390602111816\n",
      "epoch=113, dis loss=0.14614158868789673, gen loss=3.9934515953063965\n",
      "epoch=114, dis loss=0.3945673704147339, gen loss=3.581233024597168\n",
      "epoch=115, dis loss=0.38359591364860535, gen loss=3.348053455352783\n",
      "epoch=116, dis loss=0.17409709095954895, gen loss=4.413857460021973\n",
      "epoch=117, dis loss=0.45924603939056396, gen loss=4.102943420410156\n",
      "epoch=118, dis loss=0.24714477360248566, gen loss=4.15407657623291\n",
      "epoch=119, dis loss=0.23908822238445282, gen loss=3.2997875213623047\n",
      "epoch=120, dis loss=0.27544015645980835, gen loss=3.976361036300659\n",
      "epoch=121, dis loss=0.6943619847297668, gen loss=2.9559054374694824\n",
      "epoch=122, dis loss=0.3216426372528076, gen loss=3.3587491512298584\n",
      "epoch=123, dis loss=0.2872474789619446, gen loss=3.6484713554382324\n",
      "epoch=124, dis loss=0.20799098908901215, gen loss=3.539546012878418\n",
      "epoch=125, dis loss=0.25904324650764465, gen loss=4.128584861755371\n",
      "epoch=126, dis loss=0.3827180862426758, gen loss=3.3803279399871826\n",
      "epoch=127, dis loss=0.4145100712776184, gen loss=3.768954277038574\n",
      "epoch=128, dis loss=0.7479512691497803, gen loss=3.234447479248047\n",
      "epoch=129, dis loss=0.3061085343360901, gen loss=3.6735427379608154\n",
      "epoch=130, dis loss=0.42609739303588867, gen loss=3.107311248779297\n",
      "epoch=131, dis loss=0.4303375780582428, gen loss=3.558521270751953\n",
      "epoch=132, dis loss=0.31031379103660583, gen loss=3.6113345623016357\n",
      "epoch=133, dis loss=0.32859739661216736, gen loss=3.7162318229675293\n",
      "epoch=134, dis loss=0.27188318967819214, gen loss=3.968839645385742\n",
      "epoch=135, dis loss=0.44397732615470886, gen loss=4.171492576599121\n",
      "epoch=136, dis loss=0.4988919496536255, gen loss=4.241968631744385\n",
      "epoch=137, dis loss=0.33683884143829346, gen loss=3.748863697052002\n",
      "epoch=138, dis loss=0.32822442054748535, gen loss=3.103595733642578\n",
      "epoch=139, dis loss=0.2475542575120926, gen loss=3.680145263671875\n",
      "epoch=140, dis loss=0.3162989318370819, gen loss=2.7106761932373047\n",
      "epoch=141, dis loss=0.5668559074401855, gen loss=3.822462558746338\n",
      "epoch=142, dis loss=0.3308306336402893, gen loss=3.5341477394104004\n",
      "epoch=143, dis loss=0.19761872291564941, gen loss=3.2251222133636475\n",
      "epoch=144, dis loss=0.13910114765167236, gen loss=3.786287307739258\n",
      "epoch=145, dis loss=0.27960205078125, gen loss=3.833315849304199\n",
      "epoch=146, dis loss=0.3345106244087219, gen loss=3.4638936519622803\n",
      "epoch=147, dis loss=0.28024226427078247, gen loss=3.0294103622436523\n",
      "epoch=148, dis loss=0.4576837420463562, gen loss=4.246301651000977\n",
      "epoch=149, dis loss=0.14924180507659912, gen loss=3.4286556243896484\n",
      "epoch=150, dis loss=0.3690732419490814, gen loss=3.527306079864502\n",
      "epoch=151, dis loss=0.23329980671405792, gen loss=3.786242961883545\n",
      "epoch=152, dis loss=0.4731922149658203, gen loss=3.2812304496765137\n",
      "epoch=153, dis loss=0.32176023721694946, gen loss=3.6230342388153076\n",
      "epoch=154, dis loss=0.5736243724822998, gen loss=4.084043502807617\n",
      "epoch=155, dis loss=0.4879145324230194, gen loss=4.172461986541748\n",
      "epoch=156, dis loss=0.5112432241439819, gen loss=3.54555606842041\n",
      "epoch=157, dis loss=0.2350561022758484, gen loss=3.8123998641967773\n",
      "epoch=158, dis loss=0.4699268341064453, gen loss=3.3436591625213623\n",
      "epoch=159, dis loss=0.4560248851776123, gen loss=3.8201518058776855\n",
      "epoch=160, dis loss=0.31594276428222656, gen loss=3.884892225265503\n",
      "epoch=161, dis loss=0.2567996382713318, gen loss=3.3527638912200928\n",
      "epoch=162, dis loss=0.13510094583034515, gen loss=3.874960422515869\n",
      "epoch=163, dis loss=0.439670592546463, gen loss=3.064727544784546\n",
      "epoch=164, dis loss=0.4034488797187805, gen loss=3.065873861312866\n",
      "epoch=165, dis loss=0.4771048426628113, gen loss=3.616598129272461\n",
      "epoch=166, dis loss=0.3924585282802582, gen loss=3.5499038696289062\n",
      "epoch=167, dis loss=0.3696816563606262, gen loss=4.269210338592529\n",
      "epoch=168, dis loss=0.14612606167793274, gen loss=3.6891512870788574\n",
      "epoch=169, dis loss=0.27379482984542847, gen loss=3.719062328338623\n",
      "epoch=170, dis loss=0.13804054260253906, gen loss=3.4879379272460938\n",
      "epoch=171, dis loss=0.48035627603530884, gen loss=3.1792562007904053\n",
      "epoch=172, dis loss=0.2966946065425873, gen loss=3.53289794921875\n",
      "epoch=173, dis loss=0.625598669052124, gen loss=3.851062774658203\n",
      "epoch=174, dis loss=0.14987170696258545, gen loss=2.713118314743042\n",
      "epoch=175, dis loss=0.3812570571899414, gen loss=2.9707999229431152\n",
      "epoch=176, dis loss=0.3294844627380371, gen loss=3.3053393363952637\n",
      "epoch=177, dis loss=0.3174397349357605, gen loss=3.029998779296875\n",
      "epoch=178, dis loss=0.30709803104400635, gen loss=2.9462637901306152\n",
      "epoch=179, dis loss=0.30937594175338745, gen loss=3.281846523284912\n",
      "epoch=180, dis loss=0.26453298330307007, gen loss=3.0611560344696045\n",
      "epoch=181, dis loss=0.377890944480896, gen loss=3.4630191326141357\n",
      "epoch=182, dis loss=0.15457944571971893, gen loss=3.752549171447754\n",
      "epoch=183, dis loss=0.36713871359825134, gen loss=3.350071668624878\n",
      "epoch=184, dis loss=0.1654176414012909, gen loss=2.8951385021209717\n",
      "epoch=185, dis loss=0.3406488299369812, gen loss=3.981137275695801\n",
      "epoch=186, dis loss=0.21954375505447388, gen loss=3.7914187908172607\n",
      "epoch=187, dis loss=0.288088858127594, gen loss=3.5866198539733887\n",
      "epoch=188, dis loss=0.33911406993865967, gen loss=3.1233558654785156\n",
      "epoch=189, dis loss=0.3586195707321167, gen loss=2.830270290374756\n",
      "epoch=190, dis loss=0.3800145387649536, gen loss=3.38462233543396\n",
      "epoch=191, dis loss=0.2985682487487793, gen loss=3.629755735397339\n",
      "epoch=192, dis loss=0.3595046401023865, gen loss=4.141566276550293\n",
      "epoch=193, dis loss=0.33135300874710083, gen loss=3.0872278213500977\n",
      "epoch=194, dis loss=0.2812842130661011, gen loss=3.599569797515869\n",
      "epoch=195, dis loss=0.3378603458404541, gen loss=2.9722964763641357\n",
      "epoch=196, dis loss=0.22721171379089355, gen loss=4.22038459777832\n",
      "epoch=197, dis loss=0.18034692108631134, gen loss=4.0386552810668945\n",
      "epoch=198, dis loss=0.20823802053928375, gen loss=3.014404296875\n",
      "epoch=199, dis loss=0.2433372139930725, gen loss=3.124871253967285\n"
     ]
    }
   ],
   "source": [
    "for epoch in range(200):\n",
    "    for x, y  in train_loader:\n",
    "        #Discriminator\n",
    "        D_model.zero_grad()\n",
    "        #for k in range(5):\n",
    "        x_real = x.flatten(1).to(device)\n",
    "        y_real = tc.ones(y.shape[0], 1).to(device)\n",
    "       \n",
    "        D_out = D_model(x_real)\n",
    "        loss_D = loss_func(D_out, y_real)\n",
    "        \n",
    "        z = tc.randn(x.shape[0], z_dim).to(device)\n",
    "        y_fake = tc.zeros(x.shape[0], 1).to(device)\n",
    "        \n",
    "        #D(G(z))\n",
    "        x_fake = G_model(z).to(device)\n",
    "        G_out = D_model(x_fake).to(device)\n",
    "    \n",
    "        loss_G = loss_func(G_out, y_fake)\n",
    "        \n",
    "        total_loss = loss_D + loss_G\n",
    "        \n",
    "        total_loss.backward()\n",
    "        optimizer_D.step()\n",
    "        \n",
    "        #Generator\n",
    "        G_model.zero_grad()\n",
    "        \n",
    "        #optimizer_G.zero_grad()\n",
    "        z = tc.randn(x.shape[0], z_dim).to(device)\n",
    "        y_real = tc.ones(x.shape[0], 1).to(device)\n",
    "        \n",
    "        out = D_model(G_model(z))\n",
    "        loss_G = loss_func(out, y_real)\n",
    "        \n",
    "        loss_G.backward()\n",
    "        optimizer_G.step()\n",
    "    print(f'epoch={epoch}, dis loss={total_loss}, gen loss={loss_G}')"
   ]
  },
  {
   "cell_type": "code",
   "execution_count": 367,
   "metadata": {},
   "outputs": [],
   "source": [
    "yp = G_model(tc.randn(1, 64).to(device))"
   ]
  },
  {
   "cell_type": "code",
   "execution_count": 368,
   "metadata": {},
   "outputs": [
    {
     "data": {
      "text/plain": [
       "<matplotlib.image.AxesImage at 0x7fa287d767a0>"
      ]
     },
     "execution_count": 368,
     "metadata": {},
     "output_type": "execute_result"
    },
    {
     "data": {
      "image/png": "[encoded data removed]",
      "text/plain": [
       "<Figure size 640x480 with 1 Axes>"
      ]
     },
     "metadata": {},
     "output_type": "display_data"
    }
   ],
   "source": [
    "plt.imshow(yp.reshape(28, 28).cpu().detach())"
   ]
  },
  {
   "cell_type": "code",
   "execution_count": null,
   "metadata": {},
   "outputs": [],
   "source": []
  }
 ],
 "metadata": {
  "kernelspec": {
   "display_name": "Python 3",
   "language": "python",
   "name": "python3"
  },
  "language_info": {
   "codemirror_mode": {
    "name": "ipython",
    "version": 3
   },
   "file_extension": ".py",
   "mimetype": "text/x-python",
   "name": "python",
   "nbconvert_exporter": "python",
   "pygments_lexer": "ipython3",
   "version": "3.10.9"
  },
  "orig_nbformat": 4,
  "vscode": {
   "interpreter": {
    "hash": "e7370f93d1d0cde622a1f8e1c04877d8463912d04d973331ad4851f04de6915a"
   }
  }
 },
 "nbformat": 4,
 "nbformat_minor": 2
}
